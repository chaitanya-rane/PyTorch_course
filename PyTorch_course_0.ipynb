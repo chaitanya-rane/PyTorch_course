{
  "nbformat": 4,
  "nbformat_minor": 0,
  "metadata": {
    "colab": {
      "provenance": [],
      "toc_visible": true,
      "gpuType": "T4"
    },
    "kernelspec": {
      "name": "python3",
      "display_name": "Python 3"
    },
    "language_info": {
      "name": "python"
    },
    "accelerator": "GPU",
    "gpuClass": "standard"
  },
  "cells": [
    {
      "cell_type": "markdown",
      "source": [
        "# Creating Tensors"
      ],
      "metadata": {
        "id": "g8uNfDlytt71"
      }
    },
    {
      "cell_type": "code",
      "execution_count": 1,
      "metadata": {
        "id": "cvEnfGJhlA7t"
      },
      "outputs": [],
      "source": [
        "import torch"
      ]
    },
    {
      "cell_type": "code",
      "source": [
        "tensor = torch.tensor([[3,4],\n",
        "                      [5,6]])\n",
        "tensor"
      ],
      "metadata": {
        "colab": {
          "base_uri": "https://localhost:8080/"
        },
        "id": "gfcUIvZyo-ZL",
        "outputId": "c0cfb45b-ceec-44ce-b968-88b3296e07a5"
      },
      "execution_count": 2,
      "outputs": [
        {
          "output_type": "execute_result",
          "data": {
            "text/plain": [
              "tensor([[3, 4],\n",
              "        [5, 6]])"
            ]
          },
          "metadata": {},
          "execution_count": 2
        }
      ]
    },
    {
      "cell_type": "code",
      "source": [
        "tensor.shape, tensor.ndim"
      ],
      "metadata": {
        "colab": {
          "base_uri": "https://localhost:8080/"
        },
        "id": "ASUuDB3KpNW4",
        "outputId": "37f6b93b-fc01-4fb7-ea23-2df517de3df5"
      },
      "execution_count": 3,
      "outputs": [
        {
          "output_type": "execute_result",
          "data": {
            "text/plain": [
              "(torch.Size([2, 2]), 2)"
            ]
          },
          "metadata": {},
          "execution_count": 3
        }
      ]
    },
    {
      "cell_type": "markdown",
      "source": [
        "# Information about Tensors\n",
        "\n",
        "\n",
        "\n",
        "1.   Tensors should be right datatype. (tensor.dtype)\n",
        "2.   Tensors should be right shape. (tensor.shape)\n",
        "3.   Tensors should be on the right device. (tensor.device)"
      ],
      "metadata": {
        "id": "DrwF5r0Ppv-F"
      }
    },
    {
      "cell_type": "markdown",
      "source": [
        "# Matrix Multiplication"
      ],
      "metadata": {
        "id": "31LGSoGJtpxs"
      }
    },
    {
      "cell_type": "code",
      "source": [
        "torch.matmul(tensor,tensor)"
      ],
      "metadata": {
        "colab": {
          "base_uri": "https://localhost:8080/"
        },
        "id": "70iaS1Y_shxF",
        "outputId": "caec8799-baf8-4c0c-ac40-e4e75e3074f1"
      },
      "execution_count": 4,
      "outputs": [
        {
          "output_type": "execute_result",
          "data": {
            "text/plain": [
              "tensor([[29, 36],\n",
              "        [45, 56]])"
            ]
          },
          "metadata": {},
          "execution_count": 4
        }
      ]
    },
    {
      "cell_type": "markdown",
      "source": [
        "#Finding min, max, mean, sum etc (tensor aggregation)"
      ],
      "metadata": {
        "id": "c3Ae1eGLsvhn"
      }
    },
    {
      "cell_type": "code",
      "source": [
        "x = torch.tensor([[3,4],\n",
        "                 [5,6]])\n",
        "x.dtype"
      ],
      "metadata": {
        "colab": {
          "base_uri": "https://localhost:8080/"
        },
        "id": "7Ptb0ZNgt_rQ",
        "outputId": "61dbb7f9-2dd9-4eea-f94d-ce6465665766"
      },
      "execution_count": 5,
      "outputs": [
        {
          "output_type": "execute_result",
          "data": {
            "text/plain": [
              "torch.int64"
            ]
          },
          "metadata": {},
          "execution_count": 5
        }
      ]
    },
    {
      "cell_type": "code",
      "source": [
        "torch.max(x)"
      ],
      "metadata": {
        "colab": {
          "base_uri": "https://localhost:8080/"
        },
        "id": "KMV5MgZ7uEjZ",
        "outputId": "d6e8dc8f-8f1b-422d-b246-75a72795a8c2"
      },
      "execution_count": 6,
      "outputs": [
        {
          "output_type": "execute_result",
          "data": {
            "text/plain": [
              "tensor(6)"
            ]
          },
          "metadata": {},
          "execution_count": 6
        }
      ]
    },
    {
      "cell_type": "code",
      "source": [
        "torch.min(x)"
      ],
      "metadata": {
        "colab": {
          "base_uri": "https://localhost:8080/"
        },
        "id": "_tcSbKftuG4S",
        "outputId": "ce7d2cc8-37a0-4a12-fd19-c9f096520b94"
      },
      "execution_count": 7,
      "outputs": [
        {
          "output_type": "execute_result",
          "data": {
            "text/plain": [
              "tensor(3)"
            ]
          },
          "metadata": {},
          "execution_count": 7
        }
      ]
    },
    {
      "cell_type": "code",
      "source": [
        "torch.mean(x.type(torch.float32))"
      ],
      "metadata": {
        "colab": {
          "base_uri": "https://localhost:8080/"
        },
        "id": "ypY81Q7guKKq",
        "outputId": "97abe239-72f8-438b-8d45-953ea6cc4fcd"
      },
      "execution_count": 8,
      "outputs": [
        {
          "output_type": "execute_result",
          "data": {
            "text/plain": [
              "tensor(4.5000)"
            ]
          },
          "metadata": {},
          "execution_count": 8
        }
      ]
    },
    {
      "cell_type": "markdown",
      "source": [
        "# Reshaping, stacking, squeezing\n",
        "\n"
      ],
      "metadata": {
        "id": "tnALuEzhvH4f"
      }
    },
    {
      "cell_type": "code",
      "source": [
        "x = torch.arange(1,11)\n",
        "x, x.shape"
      ],
      "metadata": {
        "colab": {
          "base_uri": "https://localhost:8080/"
        },
        "id": "TeqHUFhVEBaJ",
        "outputId": "41d3beb4-ddcd-462b-b9ff-b62f117c063d"
      },
      "execution_count": 9,
      "outputs": [
        {
          "output_type": "execute_result",
          "data": {
            "text/plain": [
              "(tensor([ 1,  2,  3,  4,  5,  6,  7,  8,  9, 10]), torch.Size([10]))"
            ]
          },
          "metadata": {},
          "execution_count": 9
        }
      ]
    },
    {
      "cell_type": "code",
      "source": [
        "# Reshaping\n",
        "X_reshaped = x.reshape(2,5)\n",
        "X_reshaped, X_reshaped.shape"
      ],
      "metadata": {
        "colab": {
          "base_uri": "https://localhost:8080/"
        },
        "id": "G1CyOF1-E1kR",
        "outputId": "4902ff7d-c194-4e29-cfaa-289bf1be72bb"
      },
      "execution_count": 10,
      "outputs": [
        {
          "output_type": "execute_result",
          "data": {
            "text/plain": [
              "(tensor([[ 1,  2,  3,  4,  5],\n",
              "         [ 6,  7,  8,  9, 10]]),\n",
              " torch.Size([2, 5]))"
            ]
          },
          "metadata": {},
          "execution_count": 10
        }
      ]
    },
    {
      "cell_type": "code",
      "source": [
        "# Viewing\n",
        "x_view = x.view(5,2)\n",
        "x_view, x_view.shape"
      ],
      "metadata": {
        "colab": {
          "base_uri": "https://localhost:8080/"
        },
        "id": "VjSOOt8CFE-_",
        "outputId": "fb4ad531-6d20-43de-a6da-ea98ce964a85"
      },
      "execution_count": 11,
      "outputs": [
        {
          "output_type": "execute_result",
          "data": {
            "text/plain": [
              "(tensor([[ 1,  2],\n",
              "         [ 3,  4],\n",
              "         [ 5,  6],\n",
              "         [ 7,  8],\n",
              "         [ 9, 10]]),\n",
              " torch.Size([5, 2]))"
            ]
          },
          "metadata": {},
          "execution_count": 11
        }
      ]
    },
    {
      "cell_type": "code",
      "source": [
        "x_view[2,0] = 39\n",
        "x_view, x"
      ],
      "metadata": {
        "colab": {
          "base_uri": "https://localhost:8080/"
        },
        "id": "5vaExCnMF36h",
        "outputId": "84531705-2a19-4afe-d437-ec14bd2684ea"
      },
      "execution_count": 12,
      "outputs": [
        {
          "output_type": "execute_result",
          "data": {
            "text/plain": [
              "(tensor([[ 1,  2],\n",
              "         [ 3,  4],\n",
              "         [39,  6],\n",
              "         [ 7,  8],\n",
              "         [ 9, 10]]),\n",
              " tensor([ 1,  2,  3,  4, 39,  6,  7,  8,  9, 10]))"
            ]
          },
          "metadata": {},
          "execution_count": 12
        }
      ]
    },
    {
      "cell_type": "code",
      "source": [
        "# Stacking on TOP\n",
        "\n",
        "x_stacked = torch.stack([x,x,x])\n",
        "x_stacked, x_stacked.shape"
      ],
      "metadata": {
        "colab": {
          "base_uri": "https://localhost:8080/"
        },
        "id": "0iPihqjuGTD9",
        "outputId": "6f448d2e-5403-48cf-fe0e-bca78db58cd2"
      },
      "execution_count": 13,
      "outputs": [
        {
          "output_type": "execute_result",
          "data": {
            "text/plain": [
              "(tensor([[ 1,  2,  3,  4, 39,  6,  7,  8,  9, 10],\n",
              "         [ 1,  2,  3,  4, 39,  6,  7,  8,  9, 10],\n",
              "         [ 1,  2,  3,  4, 39,  6,  7,  8,  9, 10]]),\n",
              " torch.Size([3, 10]))"
            ]
          },
          "metadata": {},
          "execution_count": 13
        }
      ]
    },
    {
      "cell_type": "code",
      "source": [
        "# Squeeze and Unsqueeze\n",
        "\n",
        "y = torch.rand(size=(1,3,3))\n",
        "y, y.shape"
      ],
      "metadata": {
        "colab": {
          "base_uri": "https://localhost:8080/"
        },
        "id": "KGiHUvgZG90d",
        "outputId": "4513a877-2358-4fd9-c5ef-906ead6088a2"
      },
      "execution_count": 14,
      "outputs": [
        {
          "output_type": "execute_result",
          "data": {
            "text/plain": [
              "(tensor([[[0.2596, 0.0658, 0.2499],\n",
              "          [0.9487, 0.0015, 0.7393],\n",
              "          [0.9382, 0.9265, 0.2896]]]),\n",
              " torch.Size([1, 3, 3]))"
            ]
          },
          "metadata": {},
          "execution_count": 14
        }
      ]
    },
    {
      "cell_type": "code",
      "source": [
        "y_squeezed = y.squeeze()\n",
        "y_squeezed, y_squeezed.shape"
      ],
      "metadata": {
        "colab": {
          "base_uri": "https://localhost:8080/"
        },
        "id": "uRq_vH4_Hj0Q",
        "outputId": "54568e78-4719-4264-f6d1-88ed13e7f9c6"
      },
      "execution_count": 15,
      "outputs": [
        {
          "output_type": "execute_result",
          "data": {
            "text/plain": [
              "(tensor([[0.2596, 0.0658, 0.2499],\n",
              "         [0.9487, 0.0015, 0.7393],\n",
              "         [0.9382, 0.9265, 0.2896]]),\n",
              " torch.Size([3, 3]))"
            ]
          },
          "metadata": {},
          "execution_count": 15
        }
      ]
    },
    {
      "cell_type": "code",
      "source": [
        "y_unsqueezed = y_squeezed.unsqueeze(dim=0)\n",
        "y_unsqueezed, y_unsqueezed.shape"
      ],
      "metadata": {
        "colab": {
          "base_uri": "https://localhost:8080/"
        },
        "id": "w9747lruHwJ8",
        "outputId": "be0ca7ac-bc37-474b-c238-e496bd156f80"
      },
      "execution_count": 16,
      "outputs": [
        {
          "output_type": "execute_result",
          "data": {
            "text/plain": [
              "(tensor([[[0.2596, 0.0658, 0.2499],\n",
              "          [0.9487, 0.0015, 0.7393],\n",
              "          [0.9382, 0.9265, 0.2896]]]),\n",
              " torch.Size([1, 3, 3]))"
            ]
          },
          "metadata": {},
          "execution_count": 16
        }
      ]
    },
    {
      "cell_type": "code",
      "source": [
        "# Permute\n",
        "\n",
        "z = torch.rand(3,4)\n",
        "z, z.shape"
      ],
      "metadata": {
        "colab": {
          "base_uri": "https://localhost:8080/"
        },
        "id": "uxmh3x6BH5S-",
        "outputId": "b2ebe54e-042e-490c-8638-488f3af21000"
      },
      "execution_count": 17,
      "outputs": [
        {
          "output_type": "execute_result",
          "data": {
            "text/plain": [
              "(tensor([[0.0495, 0.9021, 0.2395, 0.6507],\n",
              "         [0.9569, 0.3341, 0.3897, 0.6137],\n",
              "         [0.1890, 0.1295, 0.8909, 0.0770]]),\n",
              " torch.Size([3, 4]))"
            ]
          },
          "metadata": {},
          "execution_count": 17
        }
      ]
    },
    {
      "cell_type": "code",
      "source": [
        "z_permuted = z.permute(1,0)\n",
        "z_permuted, z_permuted.shape"
      ],
      "metadata": {
        "colab": {
          "base_uri": "https://localhost:8080/"
        },
        "id": "P6fC3GTYJ985",
        "outputId": "d9676d47-23c3-4c0c-8b44-725895990836"
      },
      "execution_count": 18,
      "outputs": [
        {
          "output_type": "execute_result",
          "data": {
            "text/plain": [
              "(tensor([[0.0495, 0.9569, 0.1890],\n",
              "         [0.9021, 0.3341, 0.1295],\n",
              "         [0.2395, 0.3897, 0.8909],\n",
              "         [0.6507, 0.6137, 0.0770]]),\n",
              " torch.Size([4, 3]))"
            ]
          },
          "metadata": {},
          "execution_count": 18
        }
      ]
    },
    {
      "cell_type": "markdown",
      "source": [
        "#Indexing"
      ],
      "metadata": {
        "id": "PvChKXYLKdOK"
      }
    },
    {
      "cell_type": "code",
      "source": [
        "x = torch.rand(3,3,3)\n",
        "x, x.shape"
      ],
      "metadata": {
        "colab": {
          "base_uri": "https://localhost:8080/"
        },
        "id": "j6UwyXBfMJgH",
        "outputId": "320ad302-28a8-4b9b-bab0-9ccead6aa56e"
      },
      "execution_count": 19,
      "outputs": [
        {
          "output_type": "execute_result",
          "data": {
            "text/plain": [
              "(tensor([[[0.3693, 0.4306, 0.7936],\n",
              "          [0.6949, 0.4072, 0.9746],\n",
              "          [0.7623, 0.4034, 0.6932]],\n",
              " \n",
              "         [[0.5820, 0.3158, 0.5109],\n",
              "          [0.2966, 0.4334, 0.3102],\n",
              "          [0.1228, 0.9688, 0.7846]],\n",
              " \n",
              "         [[0.4119, 0.7867, 0.5859],\n",
              "          [0.8906, 0.1147, 0.4968],\n",
              "          [0.9770, 0.5886, 0.9763]]]),\n",
              " torch.Size([3, 3, 3]))"
            ]
          },
          "metadata": {},
          "execution_count": 19
        }
      ]
    },
    {
      "cell_type": "code",
      "source": [
        "x[0], x[0][0], x[0][0][0]"
      ],
      "metadata": {
        "colab": {
          "base_uri": "https://localhost:8080/"
        },
        "id": "JluS_truMWoo",
        "outputId": "d6060824-d81c-4185-a127-689f2cea7d81"
      },
      "execution_count": 20,
      "outputs": [
        {
          "output_type": "execute_result",
          "data": {
            "text/plain": [
              "(tensor([[0.3693, 0.4306, 0.7936],\n",
              "         [0.6949, 0.4072, 0.9746],\n",
              "         [0.7623, 0.4034, 0.6932]]),\n",
              " tensor([0.3693, 0.4306, 0.7936]),\n",
              " tensor(0.3693))"
            ]
          },
          "metadata": {},
          "execution_count": 20
        }
      ]
    },
    {
      "cell_type": "code",
      "source": [
        "x[:,:,0]"
      ],
      "metadata": {
        "colab": {
          "base_uri": "https://localhost:8080/"
        },
        "id": "vlxXvTIFM1WE",
        "outputId": "793998ee-a5f0-4249-b018-56e66a054349"
      },
      "execution_count": 21,
      "outputs": [
        {
          "output_type": "execute_result",
          "data": {
            "text/plain": [
              "tensor([[0.3693, 0.6949, 0.7623],\n",
              "        [0.5820, 0.2966, 0.1228],\n",
              "        [0.4119, 0.8906, 0.9770]])"
            ]
          },
          "metadata": {},
          "execution_count": 21
        }
      ]
    },
    {
      "cell_type": "markdown",
      "source": [
        "#PyTorch and Numpy\n",
        "\n",
        "\n",
        "\n",
        "*   torch.from_numpy(ndarray) - NumPy array to Torch tensor\n",
        "*   torch.Tensor.numpy()\n",
        "\n"
      ],
      "metadata": {
        "id": "4zIAH9MlM_PA"
      }
    },
    {
      "cell_type": "code",
      "source": [
        "import numpy as np"
      ],
      "metadata": {
        "id": "T6chi7wMzBop"
      },
      "execution_count": 22,
      "outputs": []
    },
    {
      "cell_type": "code",
      "source": [
        "array = np.arange(1.0, 11)\n",
        "tensor = torch.from_numpy(array)\n",
        "array, tensor"
      ],
      "metadata": {
        "colab": {
          "base_uri": "https://localhost:8080/"
        },
        "id": "UzCAWuR2zYeu",
        "outputId": "db952ca6-591b-4f41-cd23-d26d13eb5cec"
      },
      "execution_count": 23,
      "outputs": [
        {
          "output_type": "execute_result",
          "data": {
            "text/plain": [
              "(array([ 1.,  2.,  3.,  4.,  5.,  6.,  7.,  8.,  9., 10.]),\n",
              " tensor([ 1.,  2.,  3.,  4.,  5.,  6.,  7.,  8.,  9., 10.], dtype=torch.float64))"
            ]
          },
          "metadata": {},
          "execution_count": 23
        }
      ]
    },
    {
      "cell_type": "code",
      "source": [
        "tensor.dtype, array.dtype"
      ],
      "metadata": {
        "colab": {
          "base_uri": "https://localhost:8080/"
        },
        "id": "gUa3pyHnzZJM",
        "outputId": "ee387a0c-722e-4b78-ff3e-3e51f7f4fa05"
      },
      "execution_count": 24,
      "outputs": [
        {
          "output_type": "execute_result",
          "data": {
            "text/plain": [
              "(torch.float64, dtype('float64'))"
            ]
          },
          "metadata": {},
          "execution_count": 24
        }
      ]
    },
    {
      "cell_type": "code",
      "source": [
        "tensor = torch.rand(1,11)\n",
        "numpy_tensor = tensor.numpy()\n",
        "tensor, numpy_tensor"
      ],
      "metadata": {
        "colab": {
          "base_uri": "https://localhost:8080/"
        },
        "id": "by7Vkg-8z4Df",
        "outputId": "e0a98f59-de0d-471a-b6b8-70225873eb0b"
      },
      "execution_count": 25,
      "outputs": [
        {
          "output_type": "execute_result",
          "data": {
            "text/plain": [
              "(tensor([[0.6509, 0.8186, 0.2584, 0.4785, 0.3814, 0.1765, 0.8238, 0.0860, 0.2686,\n",
              "          0.0568, 0.9785]]),\n",
              " array([[0.65090513, 0.8185809 , 0.25836504, 0.47845572, 0.3813858 ,\n",
              "         0.17646283, 0.8238022 , 0.08597517, 0.26857966, 0.05682981,\n",
              "         0.9784685 ]], dtype=float32))"
            ]
          },
          "metadata": {},
          "execution_count": 25
        }
      ]
    },
    {
      "cell_type": "markdown",
      "source": [
        "#Reproducibitly"
      ],
      "metadata": {
        "id": "xANfz4sn0a2e"
      }
    },
    {
      "cell_type": "code",
      "source": [
        "# Set Random seed to create reproducibility in random tensors\n",
        "\n",
        "RANDOM_SEED = 42\n",
        "torch.manual_seed(RANDOM_SEED)\n",
        "tensor_A = torch.rand(3,3)\n",
        "\n",
        "torch.manual_seed(RANDOM_SEED)\n",
        "tensor_B = torch.rand(3,3)\n",
        "\n",
        "tensor_A, tensor_B, tensor_A == tensor_B"
      ],
      "metadata": {
        "colab": {
          "base_uri": "https://localhost:8080/"
        },
        "id": "64ny1xY21H_f",
        "outputId": "c18b954d-51a0-464d-afbe-ec9608ab2119"
      },
      "execution_count": 26,
      "outputs": [
        {
          "output_type": "execute_result",
          "data": {
            "text/plain": [
              "(tensor([[0.8823, 0.9150, 0.3829],\n",
              "         [0.9593, 0.3904, 0.6009],\n",
              "         [0.2566, 0.7936, 0.9408]]),\n",
              " tensor([[0.8823, 0.9150, 0.3829],\n",
              "         [0.9593, 0.3904, 0.6009],\n",
              "         [0.2566, 0.7936, 0.9408]]),\n",
              " tensor([[True, True, True],\n",
              "         [True, True, True],\n",
              "         [True, True, True]]))"
            ]
          },
          "metadata": {},
          "execution_count": 26
        }
      ]
    },
    {
      "cell_type": "markdown",
      "source": [
        "#Accessing GPU using PyTorch"
      ],
      "metadata": {
        "id": "Ge2L4GI23Hpr"
      }
    },
    {
      "cell_type": "code",
      "source": [
        "torch.cuda.is_available()"
      ],
      "metadata": {
        "colab": {
          "base_uri": "https://localhost:8080/"
        },
        "id": "Kl4crIRV4MER",
        "outputId": "b1eb21fe-1290-4843-9d86-8a1a5998eb97"
      },
      "execution_count": 27,
      "outputs": [
        {
          "output_type": "execute_result",
          "data": {
            "text/plain": [
              "True"
            ]
          },
          "metadata": {},
          "execution_count": 27
        }
      ]
    },
    {
      "cell_type": "code",
      "source": [
        "# Set device type\n",
        "device = \"cuda\" if torch.cuda.is_available() else \"cpu\"\n",
        "device"
      ],
      "metadata": {
        "colab": {
          "base_uri": "https://localhost:8080/",
          "height": 36
        },
        "id": "CdW-_LlM4OLn",
        "outputId": "b85ab067-5877-4000-9fe5-65fac9ba3223"
      },
      "execution_count": 28,
      "outputs": [
        {
          "output_type": "execute_result",
          "data": {
            "text/plain": [
              "'cuda'"
            ],
            "application/vnd.google.colaboratory.intrinsic+json": {
              "type": "string"
            }
          },
          "metadata": {},
          "execution_count": 28
        }
      ]
    },
    {
      "cell_type": "code",
      "source": [
        "# Create tensor (default on CPU)\n",
        "tensor = torch.tensor([1, 2, 3])\n",
        "\n",
        "# Tensor not on GPU\n",
        "print(tensor, tensor.device)\n",
        "\n",
        "# Move tensor to GPU (if available)\n",
        "tensor_on_gpu = tensor.to(device)\n",
        "tensor_on_gpu"
      ],
      "metadata": {
        "colab": {
          "base_uri": "https://localhost:8080/"
        },
        "id": "ZRuJ27tT4kLF",
        "outputId": "fc40273d-af44-4b4c-e15e-8a4ea0677068"
      },
      "execution_count": 29,
      "outputs": [
        {
          "output_type": "stream",
          "name": "stdout",
          "text": [
            "tensor([1, 2, 3]) cpu\n"
          ]
        },
        {
          "output_type": "execute_result",
          "data": {
            "text/plain": [
              "tensor([1, 2, 3], device='cuda:0')"
            ]
          },
          "metadata": {},
          "execution_count": 29
        }
      ]
    },
    {
      "cell_type": "code",
      "source": [
        "# Tensor back on CPU\n",
        "tensor_back_on_cpu = tensor_on_gpu.cpu()\n",
        "tensor_back_on_cpu, tensor_back_on_cpu.device"
      ],
      "metadata": {
        "colab": {
          "base_uri": "https://localhost:8080/"
        },
        "id": "i-XSUrVq4nem",
        "outputId": "0cc4eaab-7c2e-45ae-c2a2-b968379c1370"
      },
      "execution_count": 30,
      "outputs": [
        {
          "output_type": "execute_result",
          "data": {
            "text/plain": [
              "(tensor([1, 2, 3]), device(type='cpu'))"
            ]
          },
          "metadata": {},
          "execution_count": 30
        }
      ]
    },
    {
      "cell_type": "code",
      "source": [],
      "metadata": {
        "id": "J_YhrgfA5BXf"
      },
      "execution_count": null,
      "outputs": []
    }
  ]
}